{
 "cells": [
  {
   "cell_type": "code",
   "execution_count": 55,
   "metadata": {},
   "outputs": [],
   "source": [
    "import pandas as pd\n",
    "import plotly.offline as py\n",
    "import plotly.graph_objs as go"
   ]
  },
  {
   "cell_type": "code",
   "execution_count": null,
   "metadata": {},
   "outputs": [],
   "source": []
  },
  {
   "cell_type": "code",
   "execution_count": 56,
   "metadata": {
    "scrolled": true
   },
   "outputs": [],
   "source": [
    "missing_values = [\"n/a\", \"none\", \"NaN\", \"--\"]\n",
    "Median_income_state = pd.read_excel('Median_Income_State.xls')\n",
    "Median_income_state = Median_income_state.dropna()"
   ]
  },
  {
   "cell_type": "code",
   "execution_count": 64,
   "metadata": {},
   "outputs": [
    {
     "data": {
      "text/html": [
       "<div>\n",
       "<style scoped>\n",
       "    .dataframe tbody tr th:only-of-type {\n",
       "        vertical-align: middle;\n",
       "    }\n",
       "\n",
       "    .dataframe tbody tr th {\n",
       "        vertical-align: top;\n",
       "    }\n",
       "\n",
       "    .dataframe thead th {\n",
       "        text-align: right;\n",
       "    }\n",
       "</style>\n",
       "<table border=\"1\" class=\"dataframe\">\n",
       "  <thead>\n",
       "    <tr style=\"text-align: right;\">\n",
       "      <th></th>\n",
       "      <th>State</th>\n",
       "      <th>Median\n",
       "income_2016</th>\n",
       "      <th>Standard\n",
       "error_2016</th>\n",
       "      <th>Median\n",
       "income_2015</th>\n",
       "      <th>Standard\n",
       "error_2015</th>\n",
       "      <th>Median\n",
       "income_2014</th>\n",
       "      <th>Standard\n",
       "error_2014</th>\n",
       "    </tr>\n",
       "  </thead>\n",
       "  <tbody>\n",
       "    <tr>\n",
       "      <th>47</th>\n",
       "      <td>Virginia</td>\n",
       "      <td>66451</td>\n",
       "      <td>2436</td>\n",
       "      <td>61486</td>\n",
       "      <td>2439</td>\n",
       "      <td>66155</td>\n",
       "      <td>2946</td>\n",
       "    </tr>\n",
       "    <tr>\n",
       "      <th>48</th>\n",
       "      <td>Washington</td>\n",
       "      <td>70310</td>\n",
       "      <td>2092</td>\n",
       "      <td>67243</td>\n",
       "      <td>3253</td>\n",
       "      <td>59068</td>\n",
       "      <td>2195</td>\n",
       "    </tr>\n",
       "    <tr>\n",
       "      <th>49</th>\n",
       "      <td>West Virginia</td>\n",
       "      <td>44354</td>\n",
       "      <td>1994</td>\n",
       "      <td>42824</td>\n",
       "      <td>3132</td>\n",
       "      <td>39552</td>\n",
       "      <td>2195</td>\n",
       "    </tr>\n",
       "    <tr>\n",
       "      <th>50</th>\n",
       "      <td>Wisconsin</td>\n",
       "      <td>59817</td>\n",
       "      <td>1845</td>\n",
       "      <td>55425</td>\n",
       "      <td>1487</td>\n",
       "      <td>58080</td>\n",
       "      <td>2154</td>\n",
       "    </tr>\n",
       "    <tr>\n",
       "      <th>51</th>\n",
       "      <td>Wyoming</td>\n",
       "      <td>57829</td>\n",
       "      <td>3122</td>\n",
       "      <td>60925</td>\n",
       "      <td>2024</td>\n",
       "      <td>55690</td>\n",
       "      <td>2019</td>\n",
       "    </tr>\n",
       "  </tbody>\n",
       "</table>\n",
       "</div>"
      ],
      "text/plain": [
       "            State  Median\\nincome_2016  Standard\\nerror_2016  \\\n",
       "47       Virginia                66451                  2436   \n",
       "48     Washington                70310                  2092   \n",
       "49  West Virginia                44354                  1994   \n",
       "50      Wisconsin                59817                  1845   \n",
       "51        Wyoming                57829                  3122   \n",
       "\n",
       "    Median\\nincome_2015  Standard\\nerror_2015  Median\\nincome_2014  \\\n",
       "47                61486                  2439                66155   \n",
       "48                67243                  3253                59068   \n",
       "49                42824                  3132                39552   \n",
       "50                55425                  1487                58080   \n",
       "51                60925                  2024                55690   \n",
       "\n",
       "    Standard\\nerror_2014  \n",
       "47                  2946  \n",
       "48                  2195  \n",
       "49                  2195  \n",
       "50                  2154  \n",
       "51                  2019  "
      ]
     },
     "execution_count": 64,
     "metadata": {},
     "output_type": "execute_result"
    }
   ],
   "source": [
    "Median_income_state.tail()"
   ]
  },
  {
   "cell_type": "code",
   "execution_count": 75,
   "metadata": {},
   "outputs": [
    {
     "ename": "PermissionError",
     "evalue": "[Errno 13] Permission denied: 'C:\\\\Github\\\\Project 3\\\\Median_income_final.xls'",
     "output_type": "error",
     "traceback": [
      "\u001b[1;31m---------------------------------------------------------------------------\u001b[0m",
      "\u001b[1;31mPermissionError\u001b[0m                           Traceback (most recent call last)",
      "\u001b[1;32m<ipython-input-75-d7cfd75db218>\u001b[0m in \u001b[0;36m<module>\u001b[1;34m\u001b[0m\n\u001b[1;32m----> 1\u001b[1;33m \u001b[0mMedian_income_state\u001b[0m\u001b[1;33m.\u001b[0m\u001b[0mto_excel\u001b[0m\u001b[1;33m(\u001b[0m\u001b[1;34mr'C:\\Github\\Project 3\\Median_income_final.xls'\u001b[0m\u001b[1;33m)\u001b[0m\u001b[1;33m\u001b[0m\u001b[1;33m\u001b[0m\u001b[0m\n\u001b[0m",
      "\u001b[1;32m~\\Anaconda3\\lib\\site-packages\\pandas\\core\\frame.py\u001b[0m in \u001b[0;36mto_excel\u001b[1;34m(self, excel_writer, sheet_name, na_rep, float_format, columns, header, index, index_label, startrow, startcol, engine, merge_cells, encoding, inf_rep, verbose, freeze_panes)\u001b[0m\n\u001b[0;32m   1764\u001b[0m         formatter.write(excel_writer, sheet_name=sheet_name, startrow=startrow,\n\u001b[0;32m   1765\u001b[0m                         \u001b[0mstartcol\u001b[0m\u001b[1;33m=\u001b[0m\u001b[0mstartcol\u001b[0m\u001b[1;33m,\u001b[0m \u001b[0mfreeze_panes\u001b[0m\u001b[1;33m=\u001b[0m\u001b[0mfreeze_panes\u001b[0m\u001b[1;33m,\u001b[0m\u001b[1;33m\u001b[0m\u001b[1;33m\u001b[0m\u001b[0m\n\u001b[1;32m-> 1766\u001b[1;33m                         engine=engine)\n\u001b[0m\u001b[0;32m   1767\u001b[0m \u001b[1;33m\u001b[0m\u001b[0m\n\u001b[0;32m   1768\u001b[0m     def to_stata(self, fname, convert_dates=None, write_index=True,\n",
      "\u001b[1;32m~\\Anaconda3\\lib\\site-packages\\pandas\\io\\formats\\excel.py\u001b[0m in \u001b[0;36mwrite\u001b[1;34m(self, writer, sheet_name, startrow, startcol, freeze_panes, engine)\u001b[0m\n\u001b[0;32m    652\u001b[0m                            freeze_panes=freeze_panes)\n\u001b[0;32m    653\u001b[0m         \u001b[1;32mif\u001b[0m \u001b[0mneed_save\u001b[0m\u001b[1;33m:\u001b[0m\u001b[1;33m\u001b[0m\u001b[1;33m\u001b[0m\u001b[0m\n\u001b[1;32m--> 654\u001b[1;33m             \u001b[0mwriter\u001b[0m\u001b[1;33m.\u001b[0m\u001b[0msave\u001b[0m\u001b[1;33m(\u001b[0m\u001b[1;33m)\u001b[0m\u001b[1;33m\u001b[0m\u001b[1;33m\u001b[0m\u001b[0m\n\u001b[0m",
      "\u001b[1;32m~\\Anaconda3\\lib\\site-packages\\pandas\\io\\excel.py\u001b[0m in \u001b[0;36msave\u001b[1;34m(self)\u001b[0m\n\u001b[0;32m   1460\u001b[0m         \u001b[0mSave\u001b[0m \u001b[0mworkbook\u001b[0m \u001b[0mto\u001b[0m \u001b[0mdisk\u001b[0m\u001b[1;33m.\u001b[0m\u001b[1;33m\u001b[0m\u001b[1;33m\u001b[0m\u001b[0m\n\u001b[0;32m   1461\u001b[0m         \"\"\"\n\u001b[1;32m-> 1462\u001b[1;33m         \u001b[1;32mreturn\u001b[0m \u001b[0mself\u001b[0m\u001b[1;33m.\u001b[0m\u001b[0mbook\u001b[0m\u001b[1;33m.\u001b[0m\u001b[0msave\u001b[0m\u001b[1;33m(\u001b[0m\u001b[0mself\u001b[0m\u001b[1;33m.\u001b[0m\u001b[0mpath\u001b[0m\u001b[1;33m)\u001b[0m\u001b[1;33m\u001b[0m\u001b[1;33m\u001b[0m\u001b[0m\n\u001b[0m\u001b[0;32m   1463\u001b[0m \u001b[1;33m\u001b[0m\u001b[0m\n\u001b[0;32m   1464\u001b[0m     def write_cells(self, cells, sheet_name=None, startrow=0, startcol=0,\n",
      "\u001b[1;32m~\\Anaconda3\\lib\\site-packages\\xlwt\\Workbook.py\u001b[0m in \u001b[0;36msave\u001b[1;34m(self, filename_or_stream)\u001b[0m\n\u001b[0;32m    708\u001b[0m \u001b[1;33m\u001b[0m\u001b[0m\n\u001b[0;32m    709\u001b[0m         \u001b[0mdoc\u001b[0m \u001b[1;33m=\u001b[0m \u001b[0mCompoundDoc\u001b[0m\u001b[1;33m.\u001b[0m\u001b[0mXlsDoc\u001b[0m\u001b[1;33m(\u001b[0m\u001b[1;33m)\u001b[0m\u001b[1;33m\u001b[0m\u001b[1;33m\u001b[0m\u001b[0m\n\u001b[1;32m--> 710\u001b[1;33m         \u001b[0mdoc\u001b[0m\u001b[1;33m.\u001b[0m\u001b[0msave\u001b[0m\u001b[1;33m(\u001b[0m\u001b[0mfilename_or_stream\u001b[0m\u001b[1;33m,\u001b[0m \u001b[0mself\u001b[0m\u001b[1;33m.\u001b[0m\u001b[0mget_biff_data\u001b[0m\u001b[1;33m(\u001b[0m\u001b[1;33m)\u001b[0m\u001b[1;33m)\u001b[0m\u001b[1;33m\u001b[0m\u001b[1;33m\u001b[0m\u001b[0m\n\u001b[0m\u001b[0;32m    711\u001b[0m \u001b[1;33m\u001b[0m\u001b[0m\n\u001b[0;32m    712\u001b[0m \u001b[1;33m\u001b[0m\u001b[0m\n",
      "\u001b[1;32m~\\Anaconda3\\lib\\site-packages\\xlwt\\CompoundDoc.py\u001b[0m in \u001b[0;36msave\u001b[1;34m(self, file_name_or_filelike_obj, stream)\u001b[0m\n\u001b[0;32m    260\u001b[0m         \u001b[0mwe_own_it\u001b[0m \u001b[1;33m=\u001b[0m \u001b[1;32mnot\u001b[0m \u001b[0mhasattr\u001b[0m\u001b[1;33m(\u001b[0m\u001b[0mf\u001b[0m\u001b[1;33m,\u001b[0m \u001b[1;34m'write'\u001b[0m\u001b[1;33m)\u001b[0m\u001b[1;33m\u001b[0m\u001b[1;33m\u001b[0m\u001b[0m\n\u001b[0;32m    261\u001b[0m         \u001b[1;32mif\u001b[0m \u001b[0mwe_own_it\u001b[0m\u001b[1;33m:\u001b[0m\u001b[1;33m\u001b[0m\u001b[1;33m\u001b[0m\u001b[0m\n\u001b[1;32m--> 262\u001b[1;33m             \u001b[0mf\u001b[0m \u001b[1;33m=\u001b[0m \u001b[0mopen\u001b[0m\u001b[1;33m(\u001b[0m\u001b[0mfile_name_or_filelike_obj\u001b[0m\u001b[1;33m,\u001b[0m \u001b[1;34m'w+b'\u001b[0m\u001b[1;33m)\u001b[0m\u001b[1;33m\u001b[0m\u001b[1;33m\u001b[0m\u001b[0m\n\u001b[0m\u001b[0;32m    263\u001b[0m         \u001b[0mf\u001b[0m\u001b[1;33m.\u001b[0m\u001b[0mwrite\u001b[0m\u001b[1;33m(\u001b[0m\u001b[0mself\u001b[0m\u001b[1;33m.\u001b[0m\u001b[0mheader\u001b[0m\u001b[1;33m)\u001b[0m\u001b[1;33m\u001b[0m\u001b[1;33m\u001b[0m\u001b[0m\n\u001b[0;32m    264\u001b[0m         \u001b[0mf\u001b[0m\u001b[1;33m.\u001b[0m\u001b[0mwrite\u001b[0m\u001b[1;33m(\u001b[0m\u001b[0mself\u001b[0m\u001b[1;33m.\u001b[0m\u001b[0mpacked_MSAT_1st\u001b[0m\u001b[1;33m)\u001b[0m\u001b[1;33m\u001b[0m\u001b[1;33m\u001b[0m\u001b[0m\n",
      "\u001b[1;31mPermissionError\u001b[0m: [Errno 13] Permission denied: 'C:\\\\Github\\\\Project 3\\\\Median_income_final.xls'"
     ]
    }
   ],
   "source": [
    "Median_income_state.to_excel(r'C:\\Github\\Project 3\\Median_income_final.xls')"
   ]
  },
  {
   "cell_type": "code",
   "execution_count": 74,
   "metadata": {},
   "outputs": [
    {
     "data": {
      "text/plain": [
       "<bound method NDFrame.head of              State  Medianincome_2016  Standarderror_2016  Medianincome_2015  \\\n",
       "0    United States              59039                 436              56516   \n",
       "1          Alabama              47221                2301              44509   \n",
       "2           Alaska              75723                4086              75112   \n",
       "3          Arizona              57100                1971              52248   \n",
       "4         Arkansas              45907                2165              42798   \n",
       "5       California              66637                1075              63636   \n",
       "6         Colorado              70566                4125              66596   \n",
       "7      Connecticut              75923                3404              72889   \n",
       "8         Delaware              58046                2992              57756   \n",
       "9             D.C.              70982                2734              70071   \n",
       "10         Florida              51176                 835              48825   \n",
       "11         Georgia              53527                1679              50768   \n",
       "12          Hawaii              72133                2510              64514   \n",
       "13           Idaho              56564                1261              51624   \n",
       "14        Illinois              61386                1761              60413   \n",
       "15         Indiana              56094                2877              51983   \n",
       "16            Iowa              59094                2484              60855   \n",
       "17          Kansas              56810                3268              54865   \n",
       "18        Kentucky              45369                2005              42387   \n",
       "19       Louisiana              42196                1197              45922   \n",
       "20           Maine              50856                3346              50756   \n",
       "21        Maryland              73760                2591              73594   \n",
       "22   Massachusetts              72266                2911              67861   \n",
       "23        Michigan              57091                1908              54203   \n",
       "24       Minnesota              70218                4045              68730   \n",
       "25     Mississippi              41099                1226              40037   \n",
       "26        Missouri              55016                1719              59196   \n",
       "27         Montana              57075                2880              51395   \n",
       "28        Nebraska              59374                2678              60474   \n",
       "29          Nevada              55431                2137              52008   \n",
       "30   New Hampshire              76260                2913              75675   \n",
       "31      New Jersey              68468                2867              68357   \n",
       "32      New Mexico              48451                2961              45119   \n",
       "33        New York              61437                1405              58005   \n",
       "34  North Carolina              53764                1629              50797   \n",
       "35    North Dakota              60184                2290              57415   \n",
       "36            Ohio              53985                1894              53301   \n",
       "37        Oklahoma              50943                1652              47077   \n",
       "38          Oregon              59135                2622              60834   \n",
       "39    Pennsylvania              60979                2036              60389   \n",
       "40    Rhode Island              61528                2828              55701   \n",
       "41  South Carolina              54336                3153              46360   \n",
       "42    South Dakota              57450                3075              55065   \n",
       "43       Tennessee              51344                1387              47330   \n",
       "44           Texas              58146                1407              56473   \n",
       "45            Utah              67481                2237              66258   \n",
       "46         Vermont              60837                1364              59494   \n",
       "47        Virginia              66451                2436              61486   \n",
       "48      Washington              70310                2092              67243   \n",
       "49   West Virginia              44354                1994              42824   \n",
       "50       Wisconsin              59817                1845              55425   \n",
       "51         Wyoming              57829                3122              60925   \n",
       "\n",
       "    Standarderror_2015  Medianincome2014  Standarderror_2014  \n",
       "0                  321             53657                 392  \n",
       "1                 3419             42278                1529  \n",
       "2                 3485             67629                3153  \n",
       "3                 2008             49254                2304  \n",
       "4                 1572             44922                2546  \n",
       "5                 1711             60487                 894  \n",
       "6                 3682             60940                2414  \n",
       "7                 4449             70161                2665  \n",
       "8                 3392             57522                2970  \n",
       "9                 2861             68277                4402  \n",
       "10                1395             46140                 950  \n",
       "11                1401             49555                2009  \n",
       "12                2840             71223                2676  \n",
       "13                1260             53438                2572  \n",
       "14                1999             54916                1625  \n",
       "15                1682             48060                1943  \n",
       "16                3275             57810                3425  \n",
       "17                3731             53444                2863  \n",
       "18                2269             42786                1580  \n",
       "19                2140             42406                1862  \n",
       "20                1929             51710                2171  \n",
       "21                2692             76165                4272  \n",
       "22                2790             63151                2662  \n",
       "23                2005             52005                1199  \n",
       "24                3063             67244                3207  \n",
       "25                1071             35521                1294  \n",
       "26                2607             56630                3030  \n",
       "27                2937             51102                1778  \n",
       "28                2937             56870                2254  \n",
       "29                2272             49875                1836  \n",
       "30                3519             73397                3253  \n",
       "31                3132             65243                2693  \n",
       "32                2885             46686                3312  \n",
       "33                2205             54310                1781  \n",
       "34                1343             46784                1710  \n",
       "35                3233             60730                3138  \n",
       "36                1957             49644                1393  \n",
       "37                1937             47199                2775  \n",
       "38                2374             58875                2998  \n",
       "39                2227             55173                2266  \n",
       "40                3247             58633                4001  \n",
       "41                2266             44929                2244  \n",
       "42                2604             53053                3542  \n",
       "43                1708             43716                2326  \n",
       "44                1289             53875                1344  \n",
       "45                2462             63383                3231  \n",
       "46                2622             60708                3098  \n",
       "47                2439             66155                2946  \n",
       "48                3253             59068                2195  \n",
       "49                3132             39552                2195  \n",
       "50                1487             58080                2154  \n",
       "51                2024             55690                2019  >"
      ]
     },
     "execution_count": 74,
     "metadata": {},
     "output_type": "execute_result"
    }
   ],
   "source": [
    "df = pd.read_excel('Median_income_final.xls')\n",
    "df.head"
   ]
  },
  {
   "cell_type": "code",
   "execution_count": 67,
   "metadata": {},
   "outputs": [],
   "source": [
    "for col in df.columns:\n",
    "    df[col] = df [col].astype(str)"
   ]
  },
  {
   "cell_type": "code",
   "execution_count": 68,
   "metadata": {},
   "outputs": [],
   "source": [
    "scl = [\n",
    "    [0.0, 'rgb(242,240,247)'],\n",
    "    [0.2, 'rgb(218,218,235)'],\n",
    "    [0.4, 'rgb(188,189,220)'],\n",
    "    [0.6, 'rgb(158,154,200)'],\n",
    "    [0.8, 'rgb(117,107,177)'],\n",
    "    [1.0, 'rgb(84,39,143)']\n",
    "]\n",
    "\n",
    "df['text'] = df['State'] + '<br>' + \\\n",
    "    'Median income_2016 ' + df['Medianincome_2016'] + 'Standarderror_2016' + df['Standarderror_2016'] + '<br>' + \\\n",
    "    'Medianincome_2015' + df['Medianincome_2015'] + 'Standarderror_2015' + df['Standarderror_2015']"
   ]
  },
  {
   "cell_type": "code",
   "execution_count": 69,
   "metadata": {},
   "outputs": [],
   "source": [
    "data = [go.Choropleth(\n",
    "    colorscale = scl,\n",
    "    autocolorscale = False,\n",
    "    locations = df['State'],\n",
    "    z = df['Standarderror_2016'].astype(float),\n",
    "    locationmode = 'USA-states',\n",
    "    text = df['text'],\n",
    "    marker = go.choropleth.Marker(\n",
    "        line = go.choropleth.marker.Line(\n",
    "            color = 'rgb(255,255,255)',\n",
    "            width = 2\n",
    "        )),\n",
    "    colorbar = go.choropleth.ColorBar(\n",
    "        title = \"Medicare Healthcare\")\n",
    ")]\n"
   ]
  },
  {
   "cell_type": "code",
   "execution_count": 77,
   "metadata": {},
   "outputs": [
    {
     "data": {
      "application/vnd.plotly.v1+json": {
       "config": {
        "linkText": "Export to plot.ly",
        "plotlyServerURL": "https://plot.ly",
        "showLink": false
       },
       "data": [
        {
         "autocolorscale": false,
         "colorbar": {
          "title": {
           "text": "Medicare Healthcare"
          }
         },
         "colorscale": [
          [
           0,
           "rgb(242,240,247)"
          ],
          [
           0.2,
           "rgb(218,218,235)"
          ],
          [
           0.4,
           "rgb(188,189,220)"
          ],
          [
           0.6,
           "rgb(158,154,200)"
          ],
          [
           0.8,
           "rgb(117,107,177)"
          ],
          [
           1,
           "rgb(84,39,143)"
          ]
         ],
         "locationmode": "USA-states",
         "locations": [
          "United States",
          "Alabama",
          "Alaska",
          "Arizona",
          "Arkansas",
          "California",
          "Colorado",
          "Connecticut",
          "Delaware",
          "D.C.",
          "Florida",
          "Georgia",
          "Hawaii",
          "Idaho",
          "Illinois",
          "Indiana",
          "Iowa",
          "Kansas",
          "Kentucky",
          "Louisiana",
          "Maine",
          "Maryland",
          "Massachusetts",
          "Michigan",
          "Minnesota",
          "Mississippi",
          "Missouri",
          "Montana",
          "Nebraska",
          "Nevada",
          "New Hampshire",
          "New Jersey",
          "New Mexico",
          "New York",
          "North Carolina",
          "North Dakota",
          "Ohio",
          "Oklahoma",
          "Oregon",
          "Pennsylvania",
          "Rhode Island",
          "South Carolina",
          "South Dakota",
          "Tennessee",
          "Texas",
          "Utah",
          "Vermont",
          "Virginia",
          "Washington",
          "West Virginia",
          "Wisconsin",
          "Wyoming"
         ],
         "marker": {
          "line": {
           "color": "rgb(255,255,255)",
           "width": 2
          }
         },
         "text": [
          "United States<br>Median income_2016 59039Standarderror_2016436<br>Medianincome_201556516Standarderror_2015321",
          "Alabama<br>Median income_2016 47221Standarderror_20162301<br>Medianincome_201544509Standarderror_20153419",
          "Alaska<br>Median income_2016 75723Standarderror_20164086<br>Medianincome_201575112Standarderror_20153485",
          "Arizona<br>Median income_2016 57100Standarderror_20161971<br>Medianincome_201552248Standarderror_20152008",
          "Arkansas<br>Median income_2016 45907Standarderror_20162165<br>Medianincome_201542798Standarderror_20151572",
          "California<br>Median income_2016 66637Standarderror_20161075<br>Medianincome_201563636Standarderror_20151711",
          "Colorado<br>Median income_2016 70566Standarderror_20164125<br>Medianincome_201566596Standarderror_20153682",
          "Connecticut<br>Median income_2016 75923Standarderror_20163404<br>Medianincome_201572889Standarderror_20154449",
          "Delaware<br>Median income_2016 58046Standarderror_20162992<br>Medianincome_201557756Standarderror_20153392",
          "D.C.<br>Median income_2016 70982Standarderror_20162734<br>Medianincome_201570071Standarderror_20152861",
          "Florida<br>Median income_2016 51176Standarderror_2016835<br>Medianincome_201548825Standarderror_20151395",
          "Georgia<br>Median income_2016 53527Standarderror_20161679<br>Medianincome_201550768Standarderror_20151401",
          "Hawaii<br>Median income_2016 72133Standarderror_20162510<br>Medianincome_201564514Standarderror_20152840",
          "Idaho<br>Median income_2016 56564Standarderror_20161261<br>Medianincome_201551624Standarderror_20151260",
          "Illinois<br>Median income_2016 61386Standarderror_20161761<br>Medianincome_201560413Standarderror_20151999",
          "Indiana<br>Median income_2016 56094Standarderror_20162877<br>Medianincome_201551983Standarderror_20151682",
          "Iowa<br>Median income_2016 59094Standarderror_20162484<br>Medianincome_201560855Standarderror_20153275",
          "Kansas<br>Median income_2016 56810Standarderror_20163268<br>Medianincome_201554865Standarderror_20153731",
          "Kentucky<br>Median income_2016 45369Standarderror_20162005<br>Medianincome_201542387Standarderror_20152269",
          "Louisiana<br>Median income_2016 42196Standarderror_20161197<br>Medianincome_201545922Standarderror_20152140",
          "Maine<br>Median income_2016 50856Standarderror_20163346<br>Medianincome_201550756Standarderror_20151929",
          "Maryland<br>Median income_2016 73760Standarderror_20162591<br>Medianincome_201573594Standarderror_20152692",
          "Massachusetts<br>Median income_2016 72266Standarderror_20162911<br>Medianincome_201567861Standarderror_20152790",
          "Michigan<br>Median income_2016 57091Standarderror_20161908<br>Medianincome_201554203Standarderror_20152005",
          "Minnesota<br>Median income_2016 70218Standarderror_20164045<br>Medianincome_201568730Standarderror_20153063",
          "Mississippi<br>Median income_2016 41099Standarderror_20161226<br>Medianincome_201540037Standarderror_20151071",
          "Missouri<br>Median income_2016 55016Standarderror_20161719<br>Medianincome_201559196Standarderror_20152607",
          "Montana<br>Median income_2016 57075Standarderror_20162880<br>Medianincome_201551395Standarderror_20152937",
          "Nebraska<br>Median income_2016 59374Standarderror_20162678<br>Medianincome_201560474Standarderror_20152937",
          "Nevada<br>Median income_2016 55431Standarderror_20162137<br>Medianincome_201552008Standarderror_20152272",
          "New Hampshire<br>Median income_2016 76260Standarderror_20162913<br>Medianincome_201575675Standarderror_20153519",
          "New Jersey<br>Median income_2016 68468Standarderror_20162867<br>Medianincome_201568357Standarderror_20153132",
          "New Mexico<br>Median income_2016 48451Standarderror_20162961<br>Medianincome_201545119Standarderror_20152885",
          "New York<br>Median income_2016 61437Standarderror_20161405<br>Medianincome_201558005Standarderror_20152205",
          "North Carolina<br>Median income_2016 53764Standarderror_20161629<br>Medianincome_201550797Standarderror_20151343",
          "North Dakota<br>Median income_2016 60184Standarderror_20162290<br>Medianincome_201557415Standarderror_20153233",
          "Ohio<br>Median income_2016 53985Standarderror_20161894<br>Medianincome_201553301Standarderror_20151957",
          "Oklahoma<br>Median income_2016 50943Standarderror_20161652<br>Medianincome_201547077Standarderror_20151937",
          "Oregon<br>Median income_2016 59135Standarderror_20162622<br>Medianincome_201560834Standarderror_20152374",
          "Pennsylvania<br>Median income_2016 60979Standarderror_20162036<br>Medianincome_201560389Standarderror_20152227",
          "Rhode Island<br>Median income_2016 61528Standarderror_20162828<br>Medianincome_201555701Standarderror_20153247",
          "South Carolina<br>Median income_2016 54336Standarderror_20163153<br>Medianincome_201546360Standarderror_20152266",
          "South Dakota<br>Median income_2016 57450Standarderror_20163075<br>Medianincome_201555065Standarderror_20152604",
          "Tennessee<br>Median income_2016 51344Standarderror_20161387<br>Medianincome_201547330Standarderror_20151708",
          "Texas<br>Median income_2016 58146Standarderror_20161407<br>Medianincome_201556473Standarderror_20151289",
          "Utah<br>Median income_2016 67481Standarderror_20162237<br>Medianincome_201566258Standarderror_20152462",
          "Vermont<br>Median income_2016 60837Standarderror_20161364<br>Medianincome_201559494Standarderror_20152622",
          "Virginia<br>Median income_2016 66451Standarderror_20162436<br>Medianincome_201561486Standarderror_20152439",
          "Washington<br>Median income_2016 70310Standarderror_20162092<br>Medianincome_201567243Standarderror_20153253",
          "West Virginia<br>Median income_2016 44354Standarderror_20161994<br>Medianincome_201542824Standarderror_20153132",
          "Wisconsin<br>Median income_2016 59817Standarderror_20161845<br>Medianincome_201555425Standarderror_20151487",
          "Wyoming<br>Median income_2016 57829Standarderror_20163122<br>Medianincome_201560925Standarderror_20152024"
         ],
         "type": "choropleth",
         "uid": "38d5a0c4-8448-4248-afd3-730917c75c2b",
         "z": [
          436,
          2301,
          4086,
          1971,
          2165,
          1075,
          4125,
          3404,
          2992,
          2734,
          835,
          1679,
          2510,
          1261,
          1761,
          2877,
          2484,
          3268,
          2005,
          1197,
          3346,
          2591,
          2911,
          1908,
          4045,
          1226,
          1719,
          2880,
          2678,
          2137,
          2913,
          2867,
          2961,
          1405,
          1629,
          2290,
          1894,
          1652,
          2622,
          2036,
          2828,
          3153,
          3075,
          1387,
          1407,
          2237,
          1364,
          2436,
          2092,
          1994,
          1845,
          3122
         ]
        }
       ],
       "layout": {
        "geo": {
         "lakecolor": "rgb(255, 255, 255)",
         "projection": {
          "type": "albers usa"
         },
         "scope": "usa",
         "showlakes": true
        },
        "title": {
         "text": "2015-2016 US Medicare HealthCare Exports by State<br>"
        }
       }
      },
      "text/html": [
       "<div id=\"89e2b4b8-da8f-42b8-bf19-1ebbe02bc28e\" style=\"height: 525px; width: 100%;\" class=\"plotly-graph-div\"></div><script type=\"text/javascript\">require([\"plotly\"], function(Plotly) { window.PLOTLYENV=window.PLOTLYENV || {};window.PLOTLYENV.BASE_URL=\"https://plot.ly\";\n",
       "if (document.getElementById(\"89e2b4b8-da8f-42b8-bf19-1ebbe02bc28e\")) {\n",
       "    Plotly.newPlot(\"89e2b4b8-da8f-42b8-bf19-1ebbe02bc28e\", [{\"autocolorscale\": false, \"colorbar\": {\"title\": {\"text\": \"Medicare Healthcare\"}}, \"colorscale\": [[0.0, \"rgb(242,240,247)\"], [0.2, \"rgb(218,218,235)\"], [0.4, \"rgb(188,189,220)\"], [0.6, \"rgb(158,154,200)\"], [0.8, \"rgb(117,107,177)\"], [1.0, \"rgb(84,39,143)\"]], \"locationmode\": \"USA-states\", \"locations\": [\"United States\", \"Alabama\", \"Alaska\", \"Arizona\", \"Arkansas\", \"California\", \"Colorado\", \"Connecticut\", \"Delaware\", \"D.C.\", \"Florida\", \"Georgia\", \"Hawaii\", \"Idaho\", \"Illinois\", \"Indiana\", \"Iowa\", \"Kansas\", \"Kentucky\", \"Louisiana\", \"Maine\", \"Maryland\", \"Massachusetts\", \"Michigan\", \"Minnesota\", \"Mississippi\", \"Missouri\", \"Montana\", \"Nebraska\", \"Nevada\", \"New Hampshire\", \"New Jersey\", \"New Mexico\", \"New York\", \"North Carolina\", \"North Dakota\", \"Ohio\", \"Oklahoma\", \"Oregon\", \"Pennsylvania\", \"Rhode Island\", \"South Carolina\", \"South Dakota\", \"Tennessee\", \"Texas\", \"Utah\", \"Vermont\", \"Virginia\", \"Washington\", \"West Virginia\", \"Wisconsin\", \"Wyoming\"], \"marker\": {\"line\": {\"color\": \"rgb(255,255,255)\", \"width\": 2}}, \"text\": [\"United States<br>Median income_2016 59039Standarderror_2016436<br>Medianincome_201556516Standarderror_2015321\", \"Alabama<br>Median income_2016 47221Standarderror_20162301<br>Medianincome_201544509Standarderror_20153419\", \"Alaska<br>Median income_2016 75723Standarderror_20164086<br>Medianincome_201575112Standarderror_20153485\", \"Arizona<br>Median income_2016 57100Standarderror_20161971<br>Medianincome_201552248Standarderror_20152008\", \"Arkansas<br>Median income_2016 45907Standarderror_20162165<br>Medianincome_201542798Standarderror_20151572\", \"California<br>Median income_2016 66637Standarderror_20161075<br>Medianincome_201563636Standarderror_20151711\", \"Colorado<br>Median income_2016 70566Standarderror_20164125<br>Medianincome_201566596Standarderror_20153682\", \"Connecticut<br>Median income_2016 75923Standarderror_20163404<br>Medianincome_201572889Standarderror_20154449\", \"Delaware<br>Median income_2016 58046Standarderror_20162992<br>Medianincome_201557756Standarderror_20153392\", \"D.C.<br>Median income_2016 70982Standarderror_20162734<br>Medianincome_201570071Standarderror_20152861\", \"Florida<br>Median income_2016 51176Standarderror_2016835<br>Medianincome_201548825Standarderror_20151395\", \"Georgia<br>Median income_2016 53527Standarderror_20161679<br>Medianincome_201550768Standarderror_20151401\", \"Hawaii<br>Median income_2016 72133Standarderror_20162510<br>Medianincome_201564514Standarderror_20152840\", \"Idaho<br>Median income_2016 56564Standarderror_20161261<br>Medianincome_201551624Standarderror_20151260\", \"Illinois<br>Median income_2016 61386Standarderror_20161761<br>Medianincome_201560413Standarderror_20151999\", \"Indiana<br>Median income_2016 56094Standarderror_20162877<br>Medianincome_201551983Standarderror_20151682\", \"Iowa<br>Median income_2016 59094Standarderror_20162484<br>Medianincome_201560855Standarderror_20153275\", \"Kansas<br>Median income_2016 56810Standarderror_20163268<br>Medianincome_201554865Standarderror_20153731\", \"Kentucky<br>Median income_2016 45369Standarderror_20162005<br>Medianincome_201542387Standarderror_20152269\", \"Louisiana<br>Median income_2016 42196Standarderror_20161197<br>Medianincome_201545922Standarderror_20152140\", \"Maine<br>Median income_2016 50856Standarderror_20163346<br>Medianincome_201550756Standarderror_20151929\", \"Maryland<br>Median income_2016 73760Standarderror_20162591<br>Medianincome_201573594Standarderror_20152692\", \"Massachusetts<br>Median income_2016 72266Standarderror_20162911<br>Medianincome_201567861Standarderror_20152790\", \"Michigan<br>Median income_2016 57091Standarderror_20161908<br>Medianincome_201554203Standarderror_20152005\", \"Minnesota<br>Median income_2016 70218Standarderror_20164045<br>Medianincome_201568730Standarderror_20153063\", \"Mississippi<br>Median income_2016 41099Standarderror_20161226<br>Medianincome_201540037Standarderror_20151071\", \"Missouri<br>Median income_2016 55016Standarderror_20161719<br>Medianincome_201559196Standarderror_20152607\", \"Montana<br>Median income_2016 57075Standarderror_20162880<br>Medianincome_201551395Standarderror_20152937\", \"Nebraska<br>Median income_2016 59374Standarderror_20162678<br>Medianincome_201560474Standarderror_20152937\", \"Nevada<br>Median income_2016 55431Standarderror_20162137<br>Medianincome_201552008Standarderror_20152272\", \"New Hampshire<br>Median income_2016 76260Standarderror_20162913<br>Medianincome_201575675Standarderror_20153519\", \"New Jersey<br>Median income_2016 68468Standarderror_20162867<br>Medianincome_201568357Standarderror_20153132\", \"New Mexico<br>Median income_2016 48451Standarderror_20162961<br>Medianincome_201545119Standarderror_20152885\", \"New York<br>Median income_2016 61437Standarderror_20161405<br>Medianincome_201558005Standarderror_20152205\", \"North Carolina<br>Median income_2016 53764Standarderror_20161629<br>Medianincome_201550797Standarderror_20151343\", \"North Dakota<br>Median income_2016 60184Standarderror_20162290<br>Medianincome_201557415Standarderror_20153233\", \"Ohio<br>Median income_2016 53985Standarderror_20161894<br>Medianincome_201553301Standarderror_20151957\", \"Oklahoma<br>Median income_2016 50943Standarderror_20161652<br>Medianincome_201547077Standarderror_20151937\", \"Oregon<br>Median income_2016 59135Standarderror_20162622<br>Medianincome_201560834Standarderror_20152374\", \"Pennsylvania<br>Median income_2016 60979Standarderror_20162036<br>Medianincome_201560389Standarderror_20152227\", \"Rhode Island<br>Median income_2016 61528Standarderror_20162828<br>Medianincome_201555701Standarderror_20153247\", \"South Carolina<br>Median income_2016 54336Standarderror_20163153<br>Medianincome_201546360Standarderror_20152266\", \"South Dakota<br>Median income_2016 57450Standarderror_20163075<br>Medianincome_201555065Standarderror_20152604\", \"Tennessee<br>Median income_2016 51344Standarderror_20161387<br>Medianincome_201547330Standarderror_20151708\", \"Texas<br>Median income_2016 58146Standarderror_20161407<br>Medianincome_201556473Standarderror_20151289\", \"Utah<br>Median income_2016 67481Standarderror_20162237<br>Medianincome_201566258Standarderror_20152462\", \"Vermont<br>Median income_2016 60837Standarderror_20161364<br>Medianincome_201559494Standarderror_20152622\", \"Virginia<br>Median income_2016 66451Standarderror_20162436<br>Medianincome_201561486Standarderror_20152439\", \"Washington<br>Median income_2016 70310Standarderror_20162092<br>Medianincome_201567243Standarderror_20153253\", \"West Virginia<br>Median income_2016 44354Standarderror_20161994<br>Medianincome_201542824Standarderror_20153132\", \"Wisconsin<br>Median income_2016 59817Standarderror_20161845<br>Medianincome_201555425Standarderror_20151487\", \"Wyoming<br>Median income_2016 57829Standarderror_20163122<br>Medianincome_201560925Standarderror_20152024\"], \"z\": [436.0, 2301.0, 4086.0, 1971.0, 2165.0, 1075.0, 4125.0, 3404.0, 2992.0, 2734.0, 835.0, 1679.0, 2510.0, 1261.0, 1761.0, 2877.0, 2484.0, 3268.0, 2005.0, 1197.0, 3346.0, 2591.0, 2911.0, 1908.0, 4045.0, 1226.0, 1719.0, 2880.0, 2678.0, 2137.0, 2913.0, 2867.0, 2961.0, 1405.0, 1629.0, 2290.0, 1894.0, 1652.0, 2622.0, 2036.0, 2828.0, 3153.0, 3075.0, 1387.0, 1407.0, 2237.0, 1364.0, 2436.0, 2092.0, 1994.0, 1845.0, 3122.0], \"type\": \"choropleth\", \"uid\": \"38d5a0c4-8448-4248-afd3-730917c75c2b\"}], {\"geo\": {\"lakecolor\": \"rgb(255, 255, 255)\", \"projection\": {\"type\": \"albers usa\"}, \"scope\": \"usa\", \"showlakes\": true}, \"title\": {\"text\": \"2015-2016 US Medicare HealthCare Exports by State<br>\"}}, {\"showLink\": false, \"linkText\": \"Export to plot.ly\", \"plotlyServerURL\": \"https://plot.ly\"}); \n",
       "}\n",
       "});</script><script type=\"text/javascript\">window.addEventListener(\"resize\", function(){if (document.getElementById(\"89e2b4b8-da8f-42b8-bf19-1ebbe02bc28e\")) {window._Plotly.Plots.resize(document.getElementById(\"89e2b4b8-da8f-42b8-bf19-1ebbe02bc28e\"));};})</script>"
      ],
      "text/vnd.plotly.v1+html": [
       "<div id=\"89e2b4b8-da8f-42b8-bf19-1ebbe02bc28e\" style=\"height: 525px; width: 100%;\" class=\"plotly-graph-div\"></div><script type=\"text/javascript\">require([\"plotly\"], function(Plotly) { window.PLOTLYENV=window.PLOTLYENV || {};window.PLOTLYENV.BASE_URL=\"https://plot.ly\";\n",
       "if (document.getElementById(\"89e2b4b8-da8f-42b8-bf19-1ebbe02bc28e\")) {\n",
       "    Plotly.newPlot(\"89e2b4b8-da8f-42b8-bf19-1ebbe02bc28e\", [{\"autocolorscale\": false, \"colorbar\": {\"title\": {\"text\": \"Medicare Healthcare\"}}, \"colorscale\": [[0.0, \"rgb(242,240,247)\"], [0.2, \"rgb(218,218,235)\"], [0.4, \"rgb(188,189,220)\"], [0.6, \"rgb(158,154,200)\"], [0.8, \"rgb(117,107,177)\"], [1.0, \"rgb(84,39,143)\"]], \"locationmode\": \"USA-states\", \"locations\": [\"United States\", \"Alabama\", \"Alaska\", \"Arizona\", \"Arkansas\", \"California\", \"Colorado\", \"Connecticut\", \"Delaware\", \"D.C.\", \"Florida\", \"Georgia\", \"Hawaii\", \"Idaho\", \"Illinois\", \"Indiana\", \"Iowa\", \"Kansas\", \"Kentucky\", \"Louisiana\", \"Maine\", \"Maryland\", \"Massachusetts\", \"Michigan\", \"Minnesota\", \"Mississippi\", \"Missouri\", \"Montana\", \"Nebraska\", \"Nevada\", \"New Hampshire\", \"New Jersey\", \"New Mexico\", \"New York\", \"North Carolina\", \"North Dakota\", \"Ohio\", \"Oklahoma\", \"Oregon\", \"Pennsylvania\", \"Rhode Island\", \"South Carolina\", \"South Dakota\", \"Tennessee\", \"Texas\", \"Utah\", \"Vermont\", \"Virginia\", \"Washington\", \"West Virginia\", \"Wisconsin\", \"Wyoming\"], \"marker\": {\"line\": {\"color\": \"rgb(255,255,255)\", \"width\": 2}}, \"text\": [\"United States<br>Median income_2016 59039Standarderror_2016436<br>Medianincome_201556516Standarderror_2015321\", \"Alabama<br>Median income_2016 47221Standarderror_20162301<br>Medianincome_201544509Standarderror_20153419\", \"Alaska<br>Median income_2016 75723Standarderror_20164086<br>Medianincome_201575112Standarderror_20153485\", \"Arizona<br>Median income_2016 57100Standarderror_20161971<br>Medianincome_201552248Standarderror_20152008\", \"Arkansas<br>Median income_2016 45907Standarderror_20162165<br>Medianincome_201542798Standarderror_20151572\", \"California<br>Median income_2016 66637Standarderror_20161075<br>Medianincome_201563636Standarderror_20151711\", \"Colorado<br>Median income_2016 70566Standarderror_20164125<br>Medianincome_201566596Standarderror_20153682\", \"Connecticut<br>Median income_2016 75923Standarderror_20163404<br>Medianincome_201572889Standarderror_20154449\", \"Delaware<br>Median income_2016 58046Standarderror_20162992<br>Medianincome_201557756Standarderror_20153392\", \"D.C.<br>Median income_2016 70982Standarderror_20162734<br>Medianincome_201570071Standarderror_20152861\", \"Florida<br>Median income_2016 51176Standarderror_2016835<br>Medianincome_201548825Standarderror_20151395\", \"Georgia<br>Median income_2016 53527Standarderror_20161679<br>Medianincome_201550768Standarderror_20151401\", \"Hawaii<br>Median income_2016 72133Standarderror_20162510<br>Medianincome_201564514Standarderror_20152840\", \"Idaho<br>Median income_2016 56564Standarderror_20161261<br>Medianincome_201551624Standarderror_20151260\", \"Illinois<br>Median income_2016 61386Standarderror_20161761<br>Medianincome_201560413Standarderror_20151999\", \"Indiana<br>Median income_2016 56094Standarderror_20162877<br>Medianincome_201551983Standarderror_20151682\", \"Iowa<br>Median income_2016 59094Standarderror_20162484<br>Medianincome_201560855Standarderror_20153275\", \"Kansas<br>Median income_2016 56810Standarderror_20163268<br>Medianincome_201554865Standarderror_20153731\", \"Kentucky<br>Median income_2016 45369Standarderror_20162005<br>Medianincome_201542387Standarderror_20152269\", \"Louisiana<br>Median income_2016 42196Standarderror_20161197<br>Medianincome_201545922Standarderror_20152140\", \"Maine<br>Median income_2016 50856Standarderror_20163346<br>Medianincome_201550756Standarderror_20151929\", \"Maryland<br>Median income_2016 73760Standarderror_20162591<br>Medianincome_201573594Standarderror_20152692\", \"Massachusetts<br>Median income_2016 72266Standarderror_20162911<br>Medianincome_201567861Standarderror_20152790\", \"Michigan<br>Median income_2016 57091Standarderror_20161908<br>Medianincome_201554203Standarderror_20152005\", \"Minnesota<br>Median income_2016 70218Standarderror_20164045<br>Medianincome_201568730Standarderror_20153063\", \"Mississippi<br>Median income_2016 41099Standarderror_20161226<br>Medianincome_201540037Standarderror_20151071\", \"Missouri<br>Median income_2016 55016Standarderror_20161719<br>Medianincome_201559196Standarderror_20152607\", \"Montana<br>Median income_2016 57075Standarderror_20162880<br>Medianincome_201551395Standarderror_20152937\", \"Nebraska<br>Median income_2016 59374Standarderror_20162678<br>Medianincome_201560474Standarderror_20152937\", \"Nevada<br>Median income_2016 55431Standarderror_20162137<br>Medianincome_201552008Standarderror_20152272\", \"New Hampshire<br>Median income_2016 76260Standarderror_20162913<br>Medianincome_201575675Standarderror_20153519\", \"New Jersey<br>Median income_2016 68468Standarderror_20162867<br>Medianincome_201568357Standarderror_20153132\", \"New Mexico<br>Median income_2016 48451Standarderror_20162961<br>Medianincome_201545119Standarderror_20152885\", \"New York<br>Median income_2016 61437Standarderror_20161405<br>Medianincome_201558005Standarderror_20152205\", \"North Carolina<br>Median income_2016 53764Standarderror_20161629<br>Medianincome_201550797Standarderror_20151343\", \"North Dakota<br>Median income_2016 60184Standarderror_20162290<br>Medianincome_201557415Standarderror_20153233\", \"Ohio<br>Median income_2016 53985Standarderror_20161894<br>Medianincome_201553301Standarderror_20151957\", \"Oklahoma<br>Median income_2016 50943Standarderror_20161652<br>Medianincome_201547077Standarderror_20151937\", \"Oregon<br>Median income_2016 59135Standarderror_20162622<br>Medianincome_201560834Standarderror_20152374\", \"Pennsylvania<br>Median income_2016 60979Standarderror_20162036<br>Medianincome_201560389Standarderror_20152227\", \"Rhode Island<br>Median income_2016 61528Standarderror_20162828<br>Medianincome_201555701Standarderror_20153247\", \"South Carolina<br>Median income_2016 54336Standarderror_20163153<br>Medianincome_201546360Standarderror_20152266\", \"South Dakota<br>Median income_2016 57450Standarderror_20163075<br>Medianincome_201555065Standarderror_20152604\", \"Tennessee<br>Median income_2016 51344Standarderror_20161387<br>Medianincome_201547330Standarderror_20151708\", \"Texas<br>Median income_2016 58146Standarderror_20161407<br>Medianincome_201556473Standarderror_20151289\", \"Utah<br>Median income_2016 67481Standarderror_20162237<br>Medianincome_201566258Standarderror_20152462\", \"Vermont<br>Median income_2016 60837Standarderror_20161364<br>Medianincome_201559494Standarderror_20152622\", \"Virginia<br>Median income_2016 66451Standarderror_20162436<br>Medianincome_201561486Standarderror_20152439\", \"Washington<br>Median income_2016 70310Standarderror_20162092<br>Medianincome_201567243Standarderror_20153253\", \"West Virginia<br>Median income_2016 44354Standarderror_20161994<br>Medianincome_201542824Standarderror_20153132\", \"Wisconsin<br>Median income_2016 59817Standarderror_20161845<br>Medianincome_201555425Standarderror_20151487\", \"Wyoming<br>Median income_2016 57829Standarderror_20163122<br>Medianincome_201560925Standarderror_20152024\"], \"z\": [436.0, 2301.0, 4086.0, 1971.0, 2165.0, 1075.0, 4125.0, 3404.0, 2992.0, 2734.0, 835.0, 1679.0, 2510.0, 1261.0, 1761.0, 2877.0, 2484.0, 3268.0, 2005.0, 1197.0, 3346.0, 2591.0, 2911.0, 1908.0, 4045.0, 1226.0, 1719.0, 2880.0, 2678.0, 2137.0, 2913.0, 2867.0, 2961.0, 1405.0, 1629.0, 2290.0, 1894.0, 1652.0, 2622.0, 2036.0, 2828.0, 3153.0, 3075.0, 1387.0, 1407.0, 2237.0, 1364.0, 2436.0, 2092.0, 1994.0, 1845.0, 3122.0], \"type\": \"choropleth\", \"uid\": \"38d5a0c4-8448-4248-afd3-730917c75c2b\"}], {\"geo\": {\"lakecolor\": \"rgb(255, 255, 255)\", \"projection\": {\"type\": \"albers usa\"}, \"scope\": \"usa\", \"showlakes\": true}, \"title\": {\"text\": \"2015-2016 US Medicare HealthCare Exports by State<br>\"}}, {\"showLink\": false, \"linkText\": \"Export to plot.ly\", \"plotlyServerURL\": \"https://plot.ly\"}); \n",
       "}\n",
       "});</script><script type=\"text/javascript\">window.addEventListener(\"resize\", function(){if (document.getElementById(\"89e2b4b8-da8f-42b8-bf19-1ebbe02bc28e\")) {window._Plotly.Plots.resize(document.getElementById(\"89e2b4b8-da8f-42b8-bf19-1ebbe02bc28e\"));};})</script>"
      ]
     },
     "metadata": {},
     "output_type": "display_data"
    }
   ],
   "source": [
    "layout = go.Layout(\n",
    "    title = go.layout.Title(\n",
    "        text = '2015-2016 US Medicare HealthCare Exports by State<br>'\n",
    "    ),\n",
    "    geo = go.layout.Geo(\n",
    "        scope = 'usa',\n",
    "        projection = go.layout.geo.Projection(type = 'albers usa'),\n",
    "        showlakes = True,\n",
    "        lakecolor = 'rgb(255, 255, 255)'),\n",
    ")\n",
    "\n",
    "fig = go.Figure(data = data, layout = layout)\n",
    "py.offline.iplot(fig, filename = 'd3-cloropleth-map')"
   ]
  },
  {
   "cell_type": "code",
   "execution_count": null,
   "metadata": {},
   "outputs": [],
   "source": []
  },
  {
   "cell_type": "code",
   "execution_count": null,
   "metadata": {},
   "outputs": [],
   "source": []
  },
  {
   "cell_type": "code",
   "execution_count": null,
   "metadata": {},
   "outputs": [],
   "source": []
  },
  {
   "cell_type": "code",
   "execution_count": null,
   "metadata": {},
   "outputs": [],
   "source": []
  },
  {
   "cell_type": "code",
   "execution_count": null,
   "metadata": {},
   "outputs": [],
   "source": [
    "# import glob\n",
    "# import os\n",
    "\n",
    "# path = 'C:\\Github\\Project 3\\Zip Code XLS 2015\\Zip Code XLS 2015' # use correct path for your folder having excel files\n",
    "# all_files = glob.glob(os.path.join(path, \"*.xls\"))\n",
    "\n",
    "# for file in all_files:\n",
    "#     df_temp = pd.read_excel(file)\n",
    "#     mylist = ['Unnamed: 15']\n",
    "#     df_temp = df_temp[mylist]\n",
    "#     print(file, df_temp.shape)\n",
    "\n",
    "# # df= pd.concat((pd.read_excel(f) for f in all_files))"
   ]
  },
  {
   "cell_type": "code",
   "execution_count": null,
   "metadata": {},
   "outputs": [],
   "source": [
    "df_temp.info()\n",
    "df_temp.columns"
   ]
  },
  {
   "cell_type": "code",
   "execution_count": null,
   "metadata": {},
   "outputs": [],
   "source": [
    "mylist = ['Unnamed: 1', 'Unnamed: 16']\n",
    "df_temp_new = df_temp[mylist]"
   ]
  },
  {
   "cell_type": "markdown",
   "metadata": {},
   "source": [
    "df_temp1.columns"
   ]
  },
  {
   "cell_type": "code",
   "execution_count": null,
   "metadata": {},
   "outputs": [],
   "source": []
  },
  {
   "cell_type": "code",
   "execution_count": null,
   "metadata": {},
   "outputs": [],
   "source": []
  },
  {
   "cell_type": "code",
   "execution_count": null,
   "metadata": {},
   "outputs": [],
   "source": [
    "final_df = income_2015_data.rename(index=str, columns={\"Unnamed: 1\": \"WYOMING\", \"Unnamed: 15\": \"Number of tax return elderly\"})\n",
    "final_df.head()"
   ]
  },
  {
   "cell_type": "code",
   "execution_count": null,
   "metadata": {},
   "outputs": [],
   "source": []
  },
  {
   "cell_type": "code",
   "execution_count": null,
   "metadata": {},
   "outputs": [],
   "source": []
  },
  {
   "cell_type": "code",
   "execution_count": null,
   "metadata": {},
   "outputs": [],
   "source": []
  },
  {
   "cell_type": "code",
   "execution_count": null,
   "metadata": {},
   "outputs": [],
   "source": []
  },
  {
   "cell_type": "code",
   "execution_count": null,
   "metadata": {},
   "outputs": [],
   "source": []
  },
  {
   "cell_type": "code",
   "execution_count": null,
   "metadata": {},
   "outputs": [],
   "source": []
  }
 ],
 "metadata": {
  "kernelspec": {
   "display_name": "Python 3",
   "language": "python",
   "name": "python3"
  },
  "language_info": {
   "codemirror_mode": {
    "name": "ipython",
    "version": 3
   },
   "file_extension": ".py",
   "mimetype": "text/x-python",
   "name": "python",
   "nbconvert_exporter": "python",
   "pygments_lexer": "ipython3",
   "version": "3.7.1"
  }
 },
 "nbformat": 4,
 "nbformat_minor": 2
}
