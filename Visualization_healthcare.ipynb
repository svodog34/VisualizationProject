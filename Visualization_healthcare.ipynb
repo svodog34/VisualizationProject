{
 "cells": [
  {
   "cell_type": "code",
   "execution_count": 12,
   "metadata": {},
   "outputs": [],
   "source": [
    "import os\n",
    "import pandas"
   ]
  },
  {
   "cell_type": "code",
   "execution_count": 13,
   "metadata": {},
   "outputs": [],
   "source": [
    "from concurrent.futures import ThreadPoolExecutor, as_completed\n",
    "from time import time"
   ]
  },
  {
   "cell_type": "code",
   "execution_count": 14,
   "metadata": {},
   "outputs": [],
   "source": [
    "#us_cdi_data = pandas.read_excel('Medicare_Provider_Charge_Inpatient_DRGALL_FY2016.xlsx')\n",
    "#us_cdi_data.tail(2)"
   ]
  },
  {
   "cell_type": "code",
   "execution_count": 15,
   "metadata": {},
   "outputs": [],
   "source": [
    "start = time()"
   ]
  },
  {
   "cell_type": "code",
   "execution_count": 16,
   "metadata": {},
   "outputs": [
    {
     "ename": "SyntaxError",
     "evalue": "invalid syntax (<ipython-input-16-5c2e5b18ea48>, line 6)",
     "output_type": "error",
     "traceback": [
      "\u001b[1;36m  File \u001b[1;32m\"<ipython-input-16-5c2e5b18ea48>\"\u001b[1;36m, line \u001b[1;32m6\u001b[0m\n\u001b[1;33m    DATA_DIR = os.path.abspath(os.path.join(HERE, '..', 'data'))\u001b[0m\n\u001b[1;37m           ^\u001b[0m\n\u001b[1;31mSyntaxError\u001b[0m\u001b[1;31m:\u001b[0m invalid syntax\n"
     ]
    }
   ],
   "source": [
    "HERE = os.path.abspath(os.path.dirname(__file__))\n",
    "DATA_DIR = os.path.abspath(os.path.join(HERE, '..', 'data'))\n",
    "\n",
    "\n",
    "def make_df_from_excel(HERE = os.path.abspath(os.path.dirname(__file__))\n",
    "DATA_DIR = os.path.abspath(os.path.join(HERE, '..', 'data'))\n",
    "\n",
    "\n",
    "def make_df_from_excel(file_name, nrows):\n",
    "    \"\"\"Read from an Excel file in chunks and make a single DataFrame.\n",
    "\n",
    "    Parameters\n",
    "    ----------\n",
    "    file_name : str\n",
    "    nrows : int\n",
    "        Number of rows to read at a time. These Excel files are too big,\n",
    "        so we can't read all rows in one go.\n",
    "    \"\"\"\n",
    "    file_path = os.path.abspath(os.path.join(DATA_DIR, Medicare_Provider_Charge_Inpatient_DRGALL_FY2016.xlsx))\n",
    "    xl = pd.Excel(file_path)\n",
    "\n",
    "    # In this case, there was only a single Worksheet in the Workbook.\n",
    "    sheetname = xl.sheet_names[0]\n",
    "\n",
    "    # Read the header outside of the loop, so all chunk reads are\n",
    "    # consistent across all loop iterations.\n",
    "    df_header = pd.read_excel(file_path, sheetname=sheetname, nrows=1)\n",
    "    print(f\"Excel file: {file_name} (worksheet: {sheetname})\")\n",
    "\n",
    "    chunks = []\n",
    "    i_chunk = 0\n",
    "    # The first row is the header. We have already read it, so we skip it.\n",
    "    skiprows = 1\n",
    "    while True:\n",
    "        df_chunk = pd.read_excel(\n",
    "            file_path, sheetname=sheetname,\n",
    "            nrows=nrows, skiprows=skiprows, header=None)\n",
    "        skiprows += nrows\n",
    "        # When there is no data, we know we can break out of the loop.\n",
    "        if not df_chunk.shape[0]:\n",
    "            break\n",
    "        else:\n",
    "            print(f\"  - chunk {i_chunk} ({df_chunk.shape[0]} rows)\")\n",
    "            chunks.append(df_chunk)\n",
    "        i_chunk += 1\n",
    "\n",
    "    df_chunks = pd.concat(chunks)\n",
    "    # Rename the columns to concatenate the chunks with the header.\n",
    "    columns = {i: col for i, col in enumerate(df_header.columns.tolist())}\n",
    "    df_chunks.rename(columns=columns, inplace=True)\n",
    "    df = pd.concat([df_header, df_chunks])\n",
    "    return df\n",
    "\n",
    "\n",
    "if __name__ == '__main__':\n",
    "    df = make_df_from_excel('claims-2002-2006_0.xls', nrows=10000), nrows):\n",
    "    \"\"\"Read from an Excel file in chunks and make a single DataFrame.\n",
    "\n",
    "    Parameters\n",
    "    ----------\n",
    "    file_name : str\n",
    "    nrows : int\n",
    "        Number of rows to read at a time. These Excel files are too big,\n",
    "        so we can't read all rows in one go.\n",
    "    \"\"\"\n",
    "    file_path = os.path.abspath(os.path.join(DATA_DIR, file_name))\n",
    "    xl = pd.ExcelFile('Medicare_Provider_Charge_Inpatient_DRGALL_FY2016.xlsx')\n",
    "\n",
    "    # In this case, there was only a single Worksheet in the Workbook.\n",
    "    sheetname = xl.sheet_names[0]\n",
    "\n",
    "    # Read the header outside of the loop, so all chunk reads are\n",
    "    # consistent across all loop iterations.\n",
    "    df_header = pd.read_excel(file_path, sheetname=sheetname, nrows=1)\n",
    "    print(f\"Excel file: {file_name} (worksheet: {sheetname})\")\n",
    "\n",
    "    chunks = []\n",
    "    i_chunk = 0\n",
    "    # The first row is the header. We have already read it, so we skip it.\n",
    "    skiprows = 1\n",
    "    while True:\n",
    "        df_chunk = pd.read_excel(\n",
    "            file_path, sheetname=sheetname,\n",
    "            nrows=nrows, skiprows=skiprows, header=None)\n",
    "        skiprows += nrows\n",
    "        # When there is no data, we know we can break out of the loop.\n",
    "        if not df_chunk.shape[0]:\n",
    "            break\n",
    "        else:\n",
    "            print(f\"  - chunk {i_chunk} ({df_chunk.shape[0]} rows)\")\n",
    "            chunks.append(df_chunk)\n",
    "        i_chunk += 1\n",
    "\n",
    "    df_chunks = pd.concat(chunks)\n",
    "    # Rename the columns to concatenate the chunks with the header.\n",
    "    columns = {i: col for i, col in enumerate(df_header.columns.tolist())}\n",
    "    df_chunks.rename(columns=columns, inplace=True)\n",
    "    df = pd.concat([df_header, df_chunks])\n",
    "    return df\n",
    "\n",
    "\n",
    "if __name__ == '__main__':\n",
    "    df = make_df_from_excel('Medicare_Provider_Charge_Inpatient_DRGALL_FY2016.xlsx', nrows=10000)"
   ]
  },
  {
   "cell_type": "code",
   "execution_count": null,
   "metadata": {},
   "outputs": [],
   "source": []
  },
  {
   "cell_type": "code",
   "execution_count": null,
   "metadata": {},
   "outputs": [],
   "source": []
  }
 ],
 "metadata": {
  "kernelspec": {
   "display_name": "Python 3",
   "language": "python",
   "name": "python3"
  }
 },
 "nbformat": 4,
 "nbformat_minor": 2
}
